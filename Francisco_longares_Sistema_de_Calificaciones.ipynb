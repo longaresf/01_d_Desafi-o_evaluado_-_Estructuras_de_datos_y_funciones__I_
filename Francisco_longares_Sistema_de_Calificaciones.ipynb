{
  "nbformat": 4,
  "nbformat_minor": 0,
  "metadata": {
    "colab": {
      "provenance": [],
      "authorship_tag": "ABX9TyPwo5DN3pHrg6wItrIJnGIV",
      "include_colab_link": true
    },
    "kernelspec": {
      "name": "python3",
      "display_name": "Python 3"
    },
    "language_info": {
      "name": "python"
    }
  },
  "cells": [
    {
      "cell_type": "markdown",
      "metadata": {
        "id": "view-in-github",
        "colab_type": "text"
      },
      "source": [
        "<a href=\"https://colab.research.google.com/github/longaresf/01_d_Desafi-o_evaluado_-_Estructuras_de_datos_y_funciones__I_/blob/main/Francisco_longares_Sistema_de_Calificaciones.ipynb\" target=\"_parent\"><img src=\"https://colab.research.google.com/assets/colab-badge.svg\" alt=\"Open In Colab\"/></a>"
      ]
    },
    {
      "cell_type": "markdown",
      "source": [
        "## Sistema de Calificaciones"
      ],
      "metadata": {
        "id": "_m9vouocK4Mg"
      }
    },
    {
      "cell_type": "code",
      "source": [
        "# Captura de número de estudiantes\n",
        "def obtener_numero_estudiantes():\n",
        "    while True:\n",
        "        try:\n",
        "            num_estudiantes = int(input(\"Favor ingrese la cantidad de estudiantes: \"))\n",
        "            if num_estudiantes > 0:\n",
        "                print(\"Número de estudiantes ingresado correctamente.\")\n",
        "                return num_estudiantes\n",
        "            else:\n",
        "                print(\"La cantidad de estudiantes debe ser mayor a 0.\")\n",
        "        except ValueError:\n",
        "            print(\"Número inválido. Favor ingrese la cantidad de estudiantes: \")\n",
        "\n",
        "# Registro de nombre(s) de estudiante(s) y devuelve el valor\n",
        "def obtener_nombre_estudiante():\n",
        "    while True:\n",
        "        nombre_est = input(\"Favor ingrese el nombre del estudiante: \")\n",
        "        if nombre_est.replace(\" \", \"\").isalpha():\n",
        "            return nombre_est\n",
        "        else:\n",
        "            print(\"El nombre debe contener solo letras.\")\n",
        "\n",
        "# Número de asignaturas y devuelve el valor\n",
        "def obtener_numero_asignaturas():\n",
        "    while True:\n",
        "        try:\n",
        "            num_asignaturas = int(input(\"Favor ingrese la cantidad de asignaturas: \"))\n",
        "            if num_asignaturas > 0:\n",
        "                return num_asignaturas\n",
        "            else:\n",
        "                print(\"La cantidad de asignaturas debe ser mayor a 0.\")\n",
        "        except ValueError:\n",
        "            print(\"Número inválido. Favor ingrese la cantidad de asignaturas: \")\n",
        "\n",
        "# Nombre de las asignaturas y devuelve el valor\n",
        "def obtener_nombre_asignaturas(num_asignaturas):\n",
        "    nombre_asignaturas = []\n",
        "    for asignatura in range(num_asignaturas):\n",
        "        while True:\n",
        "            nombre_asignatura = input(f\"Favor ingrese el nombre de la asignatura {asignatura + 1}: \")\n",
        "            if nombre_asignatura.replace(\" \", \"\").isalpha(): # Allow spaces in names\n",
        "                nombre_asignaturas.append(nombre_asignatura)\n",
        "                break\n",
        "            else:\n",
        "                print(\"El nombre de la asignatura debe contener solo letras.\")\n",
        "    return nombre_asignaturas\n",
        "\n",
        "# Calificaciones para cada asignatura y las devuelve en una lista\n",
        "def obtener_calificaciones(nombre_asignaturas):\n",
        "    calificaciones = []\n",
        "    for asignatura_nombre in nombre_asignaturas:\n",
        "        while True:\n",
        "            try:\n",
        "                calificacion = float(input(f\"Favor ingrese la calificación para la asignatura {asignatura_nombre}: \"))\n",
        "                if 0 <= calificacion <= 10:\n",
        "                    calificaciones.append(calificacion)\n",
        "                    break\n",
        "                else:\n",
        "                    print(\"La calificación debe estar entre 0 y 10.\")\n",
        "            except ValueError:\n",
        "                print(f\"Número inválido. Favor ingrese valor entre 0 y 10 para la asignatura {asignatura_nombre}: \")\n",
        "    return calificaciones\n",
        "\n",
        "# Calcula y devuelve el promedio de las calificaciones\n",
        "def calcular_promedio(calificaciones):\n",
        "    if not calificaciones:\n",
        "        return 0\n",
        "    return sum(calificaciones) / len(calificaciones)\n",
        "\n",
        "# Determina si el estudiante ha aprobado o reprobado basándose en el promedio\n",
        "def determinar_estado(promedio):\n",
        "    if promedio >= 6:\n",
        "        estado = \"Aprobado\"\n",
        "    else:\n",
        "        estado = \"Reprobado\"\n",
        "    return estado\n",
        "\n",
        "# Imprime un resumen con el nombre de los estudiantes, su promedio y su estado\n",
        "def imprimir_resumen(estudiantes):\n",
        "    for estudiante in estudiantes:\n",
        "        print(f\"Estudiante: {estudiante['nombre']}, Promedio: {estudiante['promedio']:.2f}, Estado: {estudiante['estado']}\")\n",
        "\n",
        "\n",
        "num_estudiantes = obtener_numero_estudiantes()\n",
        "num_asignaturas = obtener_numero_asignaturas()\n",
        "nombre_asignaturas = obtener_nombre_asignaturas(num_asignaturas)\n",
        "\n",
        "\n",
        "estudiantes = []\n",
        "\n",
        "for _ in range(num_estudiantes):\n",
        "    nombre_est = obtener_nombre_estudiante()\n",
        "    calificaciones = obtener_calificaciones(nombre_asignaturas)\n",
        "    promedio = calcular_promedio(calificaciones)\n",
        "    estado = determinar_estado(promedio)\n",
        "    estudiantes.append({\n",
        "        'nombre': nombre_est,\n",
        "        'promedio': promedio,\n",
        "        'estado': estado\n",
        "    })\n",
        "\n",
        "imprimir_resumen(estudiantes)"
      ],
      "metadata": {
        "id": "ymmC6ef-Nfel"
      },
      "execution_count": null,
      "outputs": []
    }
  ]
}